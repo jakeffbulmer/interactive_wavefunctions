{
 "cells": [
  {
   "cell_type": "markdown",
   "metadata": {
    "id": "cZyqzf56sgLx"
   },
   "source": [
    "Solving the Schrodinger equation with scipy and interactive plotting with ipywidgets and matplotlib"
   ]
  },
  {
   "cell_type": "code",
   "execution_count": null,
   "metadata": {
    "id": "NsJ7-mHcUYj1"
   },
   "outputs": [],
   "source": [
    "#import stuff\n",
    "import matplotlib.pyplot as plt \n",
    "import numpy as np \n",
    "from ipywidgets import interact, FloatSlider, fixed\n",
    "from scipy.sparse.linalg import eigsh"
   ]
  },
  {
   "cell_type": "markdown",
   "metadata": {
    "id": "DFwGpXT1s-eY"
   },
   "source": [
    "We are going to find the energy eigenstates of the Schrodinger equation for 1-d potentials, so our equation to solve is:\n",
    "\n",
    "$E\\Psi(x) = \\left(\\frac{-\\hbar}{2m}\\frac{\\mathrm{d}^2}{\\mathrm{d}x^2} + V \\right) \\Psi(x)$\n",
    "\n",
    "We can turn this into a discrete equation by approximating the second derivative:\n",
    "\n",
    "$\\frac{d^2f}{dx^2} \\approx \\frac{f(x+h) - 2 f(x) + f(x-h)}{h^2}$\n",
    "\n",
    "which allows us to use a matrix eigenvalue solver to find out Energies (eigenvalues) and wavefunctions (eigenvectors). \n",
    "\n",
    "(we are also going to set $\\frac{\\hbar}{2m}=1$)"
   ]
  },
  {
   "cell_type": "code",
   "execution_count": null,
   "metadata": {
    "id": "LpjTMZsJUeip"
   },
   "outputs": [],
   "source": [
    "def solve_potential(x, V, k=10):\n",
    "    h = x[1] - x[0] #assume that the x array is evenly spaced\n",
    "    m = len(x)\n",
    "    # construct a matrix operator for the approximate second derivative\n",
    "    difdif = h**(-2) * (\n",
    "        -2 * np.diag(np.ones(m)) + \n",
    "        np.diag(np.ones(m-1), 1) + \n",
    "        np.diag(np.ones(m-1), -1)) \n",
    "    A = np.diag(V) - difdif \n",
    "\n",
    "    # 'SM' means that we want the k smallest eigenvalues\n",
    "    energies, wavefunctions = eigsh(A, k=k, which='SM')\n",
    "    return energies, wavefunctions"
   ]
  },
  {
   "cell_type": "code",
   "execution_count": null,
   "metadata": {
    "id": "ZIjTUgX_eCiB"
   },
   "outputs": [],
   "source": [
    "def plot_wavefunctions(x, Psis, Es):\n",
    "    #for clarity, we rescale the wavevectors\n",
    "    norm = 0.9 / np.max(abs(Psis[:,0].real))\n",
    "    for i, E in enumerate(Es):\n",
    "        # flip signs so that we don't have any all-negative wavevectors\n",
    "        if Psis[10,i].real < 0:\n",
    "            Psis[:,i] = -Psis[:,i]\n",
    "        # offset the wavevector by its energy\n",
    "        plt.plot(x, norm*Psis[:,i].real + E.real, c='C0')"
   ]
  },
  {
   "cell_type": "code",
   "execution_count": null,
   "metadata": {
    "id": "Fxe7oIeLegs-"
   },
   "outputs": [],
   "source": [
    "def sqaure_potential_well(x, height, width):\n",
    "    V = height * (np.heaviside(x - 0.5*width, 1) + np.heaviside(-0.5*width - x, 1))\n",
    "    return V "
   ]
  },
  {
   "cell_type": "code",
   "execution_count": null,
   "metadata": {
    "id": "-vb6L6Mpg-Ql"
   },
   "outputs": [],
   "source": [
    "def plot_psis_square(x, height, width):\n",
    "    V = sqaure_potential_well(x, height, width)\n",
    "    es, psis = solve_potential(x, V)\n",
    "    plot_wavefunctions(x, psis, es)\n",
    "    plt.plot(x, V, 'k')\n",
    "    plt.ylim((-0.5,12))\n",
    "    plt.xlim((-4,4))\n",
    "    plt.xlabel(r'$x$')\n",
    "    plt.show()"
   ]
  },
  {
   "cell_type": "markdown",
   "metadata": {
    "id": "Zu-WisU5w7cu"
   },
   "source": [
    "We have created a function 'plot_psis_square' which will solve the Schrodinger equation for a square potential well and then plot the result using matplotlib. Now we can interact with the function by using ipywidget sliders."
   ]
  },
  {
   "cell_type": "code",
   "execution_count": null,
   "metadata": {
    "colab": {
     "base_uri": "https://localhost:8080/",
     "height": 364,
     "referenced_widgets": [
      "af99f40905814c409a355095bc13eae4",
      "d3f6bcf4c6d446968995facf2cccb8ec",
      "829d339f9e9b4ffe99ba5ddd09073e6f",
      "42c1ede60b25411db37a9f8fb3fad1d8",
      "520d2339843f4575ae1402fa594c79a8",
      "95302206909b4c3ba385650dd99b2eb9",
      "43acfea152f841a2956695586825e7b4",
      "e898713df5af436e979f56c6936d4b43",
      "3f3f9455407b4c42bcf1f4949305c011",
      "a82e853f76164eab8810e7df201f0370"
     ]
    },
    "id": "OMZDXEdujypv",
    "outputId": "c4f773b2-d906-4e64-c06d-dfad9c0b885b"
   },
   "outputs": [],
   "source": [
    "interact(plot_psis_square, x=fixed(np.linspace(-5,5,100)),\n",
    "                                   height=FloatSlider(10., min=0.1, max=20, continuous_update=False),\n",
    "                                   width=FloatSlider(2.5, min=0.1, max=8., continuous_update=False))"
   ]
  },
  {
   "cell_type": "markdown",
   "metadata": {
    "id": "9TGeDIV50ATh"
   },
   "source": [
    "we can do the same thing with any parameterised 1-d potential we want, such as polynomial potentials:"
   ]
  },
  {
   "cell_type": "code",
   "execution_count": null,
   "metadata": {
    "id": "ze-GyxMAqqHt"
   },
   "outputs": [],
   "source": [
    "def polynomial_potential(x, a, b, c, d):\n",
    "    return a * x + b * x ** 2 + c * x ** 3 + d * x ** 4"
   ]
  },
  {
   "cell_type": "code",
   "execution_count": null,
   "metadata": {
    "id": "bKeDTyydjYdf"
   },
   "outputs": [],
   "source": [
    "def plot_psis_poly(x, a, b, c, d):\n",
    "    V = polynomial_potential(x, a, b, c, d)\n",
    "    es, psis = solve_potential(x, V)\n",
    "    plot_wavefunctions(x, psis, es)\n",
    "    plt.plot(x, V, 'k')\n",
    "    plt.ylim((-1.5,14))\n",
    "    plt.xlim((-4,4))\n",
    "    plt.title(r'$V=ax+bx^2+cx^3+dx^4$')\n",
    "    plt.xlabel(r'$x$')\n",
    "    plt.show()"
   ]
  },
  {
   "cell_type": "code",
   "execution_count": null,
   "metadata": {
    "colab": {
     "base_uri": "https://localhost:8080/",
     "height": 444,
     "referenced_widgets": [
      "52b01aa835604c0896cae2fa5c9d9e76",
      "00aec5de1b3647f293f8a2086aa66114",
      "824dd50b73ba449cbbdaf7b70b2b4d01",
      "39d188b53ec640338a2aa22c84168766",
      "ea1ab6cc5e324f27b60d0724c6deab60",
      "05f411319ada4348ab41e1faaa00f5ff",
      "9a78e437388f4a7faa87c87f173fee75",
      "48c717276c7141c19cdff28c8aea5b2d",
      "29d523b32d8d4d21bff7bba0706a6b90",
      "5cbb5feef2324012871b0c145eaf1f92",
      "f257759138dd4907a8c3fab482dcc80f",
      "2a209446160a49c9b5670b424fb53f05",
      "4d97ac7a6f7e4f418ac6540a453900fd",
      "d9f95376cb9d4ff88e5563a28b03fc83",
      "34d6e26cc83d4e5ab3277999085e2816",
      "e4f9bc9c6dda4fb49c1677f2caa6148c"
     ]
    },
    "id": "QBFI4XuhUk_-",
    "outputId": "11110abd-15ca-4ed4-b7e5-00608de88ded"
   },
   "outputs": [],
   "source": [
    "interact(plot_psis_poly, x=fixed(np.linspace(-4,4,100)),\n",
    "                        a=FloatSlider(0.,min=-2,max=2, step=0.01, continuous_update=False),\n",
    "                        b=FloatSlider(1.,min=-3., max=3., step=0.01, continuous_update=False),\n",
    "                        c=FloatSlider(0., min=-1, max=1, step=0.01, continuous_update=False),\n",
    "                        d=FloatSlider(0, min=-0.5, max=0.5, step=0.01, continuous_update=False))"
   ]
  },
  {
   "cell_type": "markdown",
   "metadata": {
    "id": "vpfQSao31SlT"
   },
   "source": [
    "feel free to mess around with it. Feedback welcome!"
   ]
  }
 ],
 "metadata": {
  "colab": {
   "collapsed_sections": [],
   "name": "interactive_wavefunctions.ipynb",
   "provenance": []
  },
  "kernelspec": {
   "display_name": "Python 3",
   "language": "python",
   "name": "python3"
  },
  "language_info": {
   "codemirror_mode": {
    "name": "ipython",
    "version": 3
   },
   "file_extension": ".py",
   "mimetype": "text/x-python",
   "name": "python",
   "nbconvert_exporter": "python",
   "pygments_lexer": "ipython3",
   "version": "3.6.5"
  },
  "widgets": {
   "application/vnd.jupyter.widget-state+json": {
    "00aec5de1b3647f293f8a2086aa66114": {
     "model_module": "@jupyter-widgets/base",
     "model_name": "LayoutModel",
     "state": {
      "_model_module": "@jupyter-widgets/base",
      "_model_module_version": "1.2.0",
      "_model_name": "LayoutModel",
      "_view_count": null,
      "_view_module": "@jupyter-widgets/base",
      "_view_module_version": "1.2.0",
      "_view_name": "LayoutView",
      "align_content": null,
      "align_items": null,
      "align_self": null,
      "border": null,
      "bottom": null,
      "display": null,
      "flex": null,
      "flex_flow": null,
      "grid_area": null,
      "grid_auto_columns": null,
      "grid_auto_flow": null,
      "grid_auto_rows": null,
      "grid_column": null,
      "grid_gap": null,
      "grid_row": null,
      "grid_template_areas": null,
      "grid_template_columns": null,
      "grid_template_rows": null,
      "height": null,
      "justify_content": null,
      "justify_items": null,
      "left": null,
      "margin": null,
      "max_height": null,
      "max_width": null,
      "min_height": null,
      "min_width": null,
      "object_fit": null,
      "object_position": null,
      "order": null,
      "overflow": null,
      "overflow_x": null,
      "overflow_y": null,
      "padding": null,
      "right": null,
      "top": null,
      "visibility": null,
      "width": null
     }
    },
    "05f411319ada4348ab41e1faaa00f5ff": {
     "model_module": "@jupyter-widgets/controls",
     "model_name": "FloatSliderModel",
     "state": {
      "_dom_classes": [],
      "_model_module": "@jupyter-widgets/controls",
      "_model_module_version": "1.5.0",
      "_model_name": "FloatSliderModel",
      "_view_count": null,
      "_view_module": "@jupyter-widgets/controls",
      "_view_module_version": "1.5.0",
      "_view_name": "FloatSliderView",
      "continuous_update": true,
      "description": "d",
      "description_tooltip": null,
      "disabled": false,
      "layout": "IPY_MODEL_34d6e26cc83d4e5ab3277999085e2816",
      "max": 0.5,
      "min": -0.5,
      "orientation": "horizontal",
      "readout": true,
      "readout_format": ".2f",
      "step": 0.01,
      "style": "IPY_MODEL_d9f95376cb9d4ff88e5563a28b03fc83",
      "value": 0
     }
    },
    "29d523b32d8d4d21bff7bba0706a6b90": {
     "model_module": "@jupyter-widgets/base",
     "model_name": "LayoutModel",
     "state": {
      "_model_module": "@jupyter-widgets/base",
      "_model_module_version": "1.2.0",
      "_model_name": "LayoutModel",
      "_view_count": null,
      "_view_module": "@jupyter-widgets/base",
      "_view_module_version": "1.2.0",
      "_view_name": "LayoutView",
      "align_content": null,
      "align_items": null,
      "align_self": null,
      "border": null,
      "bottom": null,
      "display": null,
      "flex": null,
      "flex_flow": null,
      "grid_area": null,
      "grid_auto_columns": null,
      "grid_auto_flow": null,
      "grid_auto_rows": null,
      "grid_column": null,
      "grid_gap": null,
      "grid_row": null,
      "grid_template_areas": null,
      "grid_template_columns": null,
      "grid_template_rows": null,
      "height": null,
      "justify_content": null,
      "justify_items": null,
      "left": null,
      "margin": null,
      "max_height": null,
      "max_width": null,
      "min_height": null,
      "min_width": null,
      "object_fit": null,
      "object_position": null,
      "order": null,
      "overflow": null,
      "overflow_x": null,
      "overflow_y": null,
      "padding": null,
      "right": null,
      "top": null,
      "visibility": null,
      "width": null
     }
    },
    "2a209446160a49c9b5670b424fb53f05": {
     "model_module": "@jupyter-widgets/controls",
     "model_name": "SliderStyleModel",
     "state": {
      "_model_module": "@jupyter-widgets/controls",
      "_model_module_version": "1.5.0",
      "_model_name": "SliderStyleModel",
      "_view_count": null,
      "_view_module": "@jupyter-widgets/base",
      "_view_module_version": "1.2.0",
      "_view_name": "StyleView",
      "description_width": "",
      "handle_color": null
     }
    },
    "34d6e26cc83d4e5ab3277999085e2816": {
     "model_module": "@jupyter-widgets/base",
     "model_name": "LayoutModel",
     "state": {
      "_model_module": "@jupyter-widgets/base",
      "_model_module_version": "1.2.0",
      "_model_name": "LayoutModel",
      "_view_count": null,
      "_view_module": "@jupyter-widgets/base",
      "_view_module_version": "1.2.0",
      "_view_name": "LayoutView",
      "align_content": null,
      "align_items": null,
      "align_self": null,
      "border": null,
      "bottom": null,
      "display": null,
      "flex": null,
      "flex_flow": null,
      "grid_area": null,
      "grid_auto_columns": null,
      "grid_auto_flow": null,
      "grid_auto_rows": null,
      "grid_column": null,
      "grid_gap": null,
      "grid_row": null,
      "grid_template_areas": null,
      "grid_template_columns": null,
      "grid_template_rows": null,
      "height": null,
      "justify_content": null,
      "justify_items": null,
      "left": null,
      "margin": null,
      "max_height": null,
      "max_width": null,
      "min_height": null,
      "min_width": null,
      "object_fit": null,
      "object_position": null,
      "order": null,
      "overflow": null,
      "overflow_x": null,
      "overflow_y": null,
      "padding": null,
      "right": null,
      "top": null,
      "visibility": null,
      "width": null
     }
    },
    "39d188b53ec640338a2aa22c84168766": {
     "model_module": "@jupyter-widgets/controls",
     "model_name": "FloatSliderModel",
     "state": {
      "_dom_classes": [],
      "_model_module": "@jupyter-widgets/controls",
      "_model_module_version": "1.5.0",
      "_model_name": "FloatSliderModel",
      "_view_count": null,
      "_view_module": "@jupyter-widgets/controls",
      "_view_module_version": "1.5.0",
      "_view_name": "FloatSliderView",
      "continuous_update": true,
      "description": "b",
      "description_tooltip": null,
      "disabled": false,
      "layout": "IPY_MODEL_f257759138dd4907a8c3fab482dcc80f",
      "max": 3,
      "min": -3,
      "orientation": "horizontal",
      "readout": true,
      "readout_format": ".2f",
      "step": 0.01,
      "style": "IPY_MODEL_5cbb5feef2324012871b0c145eaf1f92",
      "value": 1
     }
    },
    "3f3f9455407b4c42bcf1f4949305c011": {
     "model_module": "@jupyter-widgets/base",
     "model_name": "LayoutModel",
     "state": {
      "_model_module": "@jupyter-widgets/base",
      "_model_module_version": "1.2.0",
      "_model_name": "LayoutModel",
      "_view_count": null,
      "_view_module": "@jupyter-widgets/base",
      "_view_module_version": "1.2.0",
      "_view_name": "LayoutView",
      "align_content": null,
      "align_items": null,
      "align_self": null,
      "border": null,
      "bottom": null,
      "display": null,
      "flex": null,
      "flex_flow": null,
      "grid_area": null,
      "grid_auto_columns": null,
      "grid_auto_flow": null,
      "grid_auto_rows": null,
      "grid_column": null,
      "grid_gap": null,
      "grid_row": null,
      "grid_template_areas": null,
      "grid_template_columns": null,
      "grid_template_rows": null,
      "height": null,
      "justify_content": null,
      "justify_items": null,
      "left": null,
      "margin": null,
      "max_height": null,
      "max_width": null,
      "min_height": null,
      "min_width": null,
      "object_fit": null,
      "object_position": null,
      "order": null,
      "overflow": null,
      "overflow_x": null,
      "overflow_y": null,
      "padding": null,
      "right": null,
      "top": null,
      "visibility": null,
      "width": null
     }
    },
    "42c1ede60b25411db37a9f8fb3fad1d8": {
     "model_module": "@jupyter-widgets/controls",
     "model_name": "FloatSliderModel",
     "state": {
      "_dom_classes": [],
      "_model_module": "@jupyter-widgets/controls",
      "_model_module_version": "1.5.0",
      "_model_name": "FloatSliderModel",
      "_view_count": null,
      "_view_module": "@jupyter-widgets/controls",
      "_view_module_version": "1.5.0",
      "_view_name": "FloatSliderView",
      "continuous_update": true,
      "description": "width",
      "description_tooltip": null,
      "disabled": false,
      "layout": "IPY_MODEL_3f3f9455407b4c42bcf1f4949305c011",
      "max": 8,
      "min": 0.1,
      "orientation": "horizontal",
      "readout": true,
      "readout_format": ".2f",
      "step": 0.1,
      "style": "IPY_MODEL_e898713df5af436e979f56c6936d4b43",
      "value": 3.8
     }
    },
    "43acfea152f841a2956695586825e7b4": {
     "model_module": "@jupyter-widgets/base",
     "model_name": "LayoutModel",
     "state": {
      "_model_module": "@jupyter-widgets/base",
      "_model_module_version": "1.2.0",
      "_model_name": "LayoutModel",
      "_view_count": null,
      "_view_module": "@jupyter-widgets/base",
      "_view_module_version": "1.2.0",
      "_view_name": "LayoutView",
      "align_content": null,
      "align_items": null,
      "align_self": null,
      "border": null,
      "bottom": null,
      "display": null,
      "flex": null,
      "flex_flow": null,
      "grid_area": null,
      "grid_auto_columns": null,
      "grid_auto_flow": null,
      "grid_auto_rows": null,
      "grid_column": null,
      "grid_gap": null,
      "grid_row": null,
      "grid_template_areas": null,
      "grid_template_columns": null,
      "grid_template_rows": null,
      "height": null,
      "justify_content": null,
      "justify_items": null,
      "left": null,
      "margin": null,
      "max_height": null,
      "max_width": null,
      "min_height": null,
      "min_width": null,
      "object_fit": null,
      "object_position": null,
      "order": null,
      "overflow": null,
      "overflow_x": null,
      "overflow_y": null,
      "padding": null,
      "right": null,
      "top": null,
      "visibility": null,
      "width": null
     }
    },
    "48c717276c7141c19cdff28c8aea5b2d": {
     "model_module": "@jupyter-widgets/controls",
     "model_name": "SliderStyleModel",
     "state": {
      "_model_module": "@jupyter-widgets/controls",
      "_model_module_version": "1.5.0",
      "_model_name": "SliderStyleModel",
      "_view_count": null,
      "_view_module": "@jupyter-widgets/base",
      "_view_module_version": "1.2.0",
      "_view_name": "StyleView",
      "description_width": "",
      "handle_color": null
     }
    },
    "4d97ac7a6f7e4f418ac6540a453900fd": {
     "model_module": "@jupyter-widgets/base",
     "model_name": "LayoutModel",
     "state": {
      "_model_module": "@jupyter-widgets/base",
      "_model_module_version": "1.2.0",
      "_model_name": "LayoutModel",
      "_view_count": null,
      "_view_module": "@jupyter-widgets/base",
      "_view_module_version": "1.2.0",
      "_view_name": "LayoutView",
      "align_content": null,
      "align_items": null,
      "align_self": null,
      "border": null,
      "bottom": null,
      "display": null,
      "flex": null,
      "flex_flow": null,
      "grid_area": null,
      "grid_auto_columns": null,
      "grid_auto_flow": null,
      "grid_auto_rows": null,
      "grid_column": null,
      "grid_gap": null,
      "grid_row": null,
      "grid_template_areas": null,
      "grid_template_columns": null,
      "grid_template_rows": null,
      "height": null,
      "justify_content": null,
      "justify_items": null,
      "left": null,
      "margin": null,
      "max_height": null,
      "max_width": null,
      "min_height": null,
      "min_width": null,
      "object_fit": null,
      "object_position": null,
      "order": null,
      "overflow": null,
      "overflow_x": null,
      "overflow_y": null,
      "padding": null,
      "right": null,
      "top": null,
      "visibility": null,
      "width": null
     }
    },
    "520d2339843f4575ae1402fa594c79a8": {
     "model_module": "@jupyter-widgets/output",
     "model_name": "OutputModel",
     "state": {
      "_dom_classes": [],
      "_model_module": "@jupyter-widgets/output",
      "_model_module_version": "1.0.0",
      "_model_name": "OutputModel",
      "_view_count": null,
      "_view_module": "@jupyter-widgets/output",
      "_view_module_version": "1.0.0",
      "_view_name": "OutputView",
      "layout": "IPY_MODEL_a82e853f76164eab8810e7df201f0370",
      "msg_id": "",
      "outputs": [
       {
        "image/png": "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\n",
        "metadata": {
         "needs_background": "light",
         "tags": []
        },
        "output_type": "display_data",
        "text/plain": "<Figure size 432x288 with 1 Axes>"
       }
      ]
     }
    },
    "52b01aa835604c0896cae2fa5c9d9e76": {
     "model_module": "@jupyter-widgets/controls",
     "model_name": "VBoxModel",
     "state": {
      "_dom_classes": [
       "widget-interact"
      ],
      "_model_module": "@jupyter-widgets/controls",
      "_model_module_version": "1.5.0",
      "_model_name": "VBoxModel",
      "_view_count": null,
      "_view_module": "@jupyter-widgets/controls",
      "_view_module_version": "1.5.0",
      "_view_name": "VBoxView",
      "box_style": "",
      "children": [
       "IPY_MODEL_824dd50b73ba449cbbdaf7b70b2b4d01",
       "IPY_MODEL_39d188b53ec640338a2aa22c84168766",
       "IPY_MODEL_ea1ab6cc5e324f27b60d0724c6deab60",
       "IPY_MODEL_05f411319ada4348ab41e1faaa00f5ff",
       "IPY_MODEL_9a78e437388f4a7faa87c87f173fee75"
      ],
      "layout": "IPY_MODEL_00aec5de1b3647f293f8a2086aa66114"
     }
    },
    "5cbb5feef2324012871b0c145eaf1f92": {
     "model_module": "@jupyter-widgets/controls",
     "model_name": "SliderStyleModel",
     "state": {
      "_model_module": "@jupyter-widgets/controls",
      "_model_module_version": "1.5.0",
      "_model_name": "SliderStyleModel",
      "_view_count": null,
      "_view_module": "@jupyter-widgets/base",
      "_view_module_version": "1.2.0",
      "_view_name": "StyleView",
      "description_width": "",
      "handle_color": null
     }
    },
    "824dd50b73ba449cbbdaf7b70b2b4d01": {
     "model_module": "@jupyter-widgets/controls",
     "model_name": "FloatSliderModel",
     "state": {
      "_dom_classes": [],
      "_model_module": "@jupyter-widgets/controls",
      "_model_module_version": "1.5.0",
      "_model_name": "FloatSliderModel",
      "_view_count": null,
      "_view_module": "@jupyter-widgets/controls",
      "_view_module_version": "1.5.0",
      "_view_name": "FloatSliderView",
      "continuous_update": true,
      "description": "a",
      "description_tooltip": null,
      "disabled": false,
      "layout": "IPY_MODEL_29d523b32d8d4d21bff7bba0706a6b90",
      "max": 2,
      "min": -2,
      "orientation": "horizontal",
      "readout": true,
      "readout_format": ".2f",
      "step": 0.01,
      "style": "IPY_MODEL_48c717276c7141c19cdff28c8aea5b2d",
      "value": 0
     }
    },
    "829d339f9e9b4ffe99ba5ddd09073e6f": {
     "model_module": "@jupyter-widgets/controls",
     "model_name": "FloatSliderModel",
     "state": {
      "_dom_classes": [],
      "_model_module": "@jupyter-widgets/controls",
      "_model_module_version": "1.5.0",
      "_model_name": "FloatSliderModel",
      "_view_count": null,
      "_view_module": "@jupyter-widgets/controls",
      "_view_module_version": "1.5.0",
      "_view_name": "FloatSliderView",
      "continuous_update": true,
      "description": "height",
      "description_tooltip": null,
      "disabled": false,
      "layout": "IPY_MODEL_43acfea152f841a2956695586825e7b4",
      "max": 20,
      "min": 0.1,
      "orientation": "horizontal",
      "readout": true,
      "readout_format": ".2f",
      "step": 0.1,
      "style": "IPY_MODEL_95302206909b4c3ba385650dd99b2eb9",
      "value": 11.5
     }
    },
    "95302206909b4c3ba385650dd99b2eb9": {
     "model_module": "@jupyter-widgets/controls",
     "model_name": "SliderStyleModel",
     "state": {
      "_model_module": "@jupyter-widgets/controls",
      "_model_module_version": "1.5.0",
      "_model_name": "SliderStyleModel",
      "_view_count": null,
      "_view_module": "@jupyter-widgets/base",
      "_view_module_version": "1.2.0",
      "_view_name": "StyleView",
      "description_width": "",
      "handle_color": null
     }
    },
    "9a78e437388f4a7faa87c87f173fee75": {
     "model_module": "@jupyter-widgets/output",
     "model_name": "OutputModel",
     "state": {
      "_dom_classes": [],
      "_model_module": "@jupyter-widgets/output",
      "_model_module_version": "1.0.0",
      "_model_name": "OutputModel",
      "_view_count": null,
      "_view_module": "@jupyter-widgets/output",
      "_view_module_version": "1.0.0",
      "_view_name": "OutputView",
      "layout": "IPY_MODEL_e4f9bc9c6dda4fb49c1677f2caa6148c",
      "msg_id": "",
      "outputs": [
       {
        "image/png": "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\n",
        "metadata": {
         "needs_background": "light",
         "tags": []
        },
        "output_type": "display_data",
        "text/plain": "<Figure size 432x288 with 1 Axes>"
       }
      ]
     }
    },
    "a82e853f76164eab8810e7df201f0370": {
     "model_module": "@jupyter-widgets/base",
     "model_name": "LayoutModel",
     "state": {
      "_model_module": "@jupyter-widgets/base",
      "_model_module_version": "1.2.0",
      "_model_name": "LayoutModel",
      "_view_count": null,
      "_view_module": "@jupyter-widgets/base",
      "_view_module_version": "1.2.0",
      "_view_name": "LayoutView",
      "align_content": null,
      "align_items": null,
      "align_self": null,
      "border": null,
      "bottom": null,
      "display": null,
      "flex": null,
      "flex_flow": null,
      "grid_area": null,
      "grid_auto_columns": null,
      "grid_auto_flow": null,
      "grid_auto_rows": null,
      "grid_column": null,
      "grid_gap": null,
      "grid_row": null,
      "grid_template_areas": null,
      "grid_template_columns": null,
      "grid_template_rows": null,
      "height": null,
      "justify_content": null,
      "justify_items": null,
      "left": null,
      "margin": null,
      "max_height": null,
      "max_width": null,
      "min_height": null,
      "min_width": null,
      "object_fit": null,
      "object_position": null,
      "order": null,
      "overflow": null,
      "overflow_x": null,
      "overflow_y": null,
      "padding": null,
      "right": null,
      "top": null,
      "visibility": null,
      "width": null
     }
    },
    "af99f40905814c409a355095bc13eae4": {
     "model_module": "@jupyter-widgets/controls",
     "model_name": "VBoxModel",
     "state": {
      "_dom_classes": [
       "widget-interact"
      ],
      "_model_module": "@jupyter-widgets/controls",
      "_model_module_version": "1.5.0",
      "_model_name": "VBoxModel",
      "_view_count": null,
      "_view_module": "@jupyter-widgets/controls",
      "_view_module_version": "1.5.0",
      "_view_name": "VBoxView",
      "box_style": "",
      "children": [
       "IPY_MODEL_829d339f9e9b4ffe99ba5ddd09073e6f",
       "IPY_MODEL_42c1ede60b25411db37a9f8fb3fad1d8",
       "IPY_MODEL_520d2339843f4575ae1402fa594c79a8"
      ],
      "layout": "IPY_MODEL_d3f6bcf4c6d446968995facf2cccb8ec"
     }
    },
    "d3f6bcf4c6d446968995facf2cccb8ec": {
     "model_module": "@jupyter-widgets/base",
     "model_name": "LayoutModel",
     "state": {
      "_model_module": "@jupyter-widgets/base",
      "_model_module_version": "1.2.0",
      "_model_name": "LayoutModel",
      "_view_count": null,
      "_view_module": "@jupyter-widgets/base",
      "_view_module_version": "1.2.0",
      "_view_name": "LayoutView",
      "align_content": null,
      "align_items": null,
      "align_self": null,
      "border": null,
      "bottom": null,
      "display": null,
      "flex": null,
      "flex_flow": null,
      "grid_area": null,
      "grid_auto_columns": null,
      "grid_auto_flow": null,
      "grid_auto_rows": null,
      "grid_column": null,
      "grid_gap": null,
      "grid_row": null,
      "grid_template_areas": null,
      "grid_template_columns": null,
      "grid_template_rows": null,
      "height": null,
      "justify_content": null,
      "justify_items": null,
      "left": null,
      "margin": null,
      "max_height": null,
      "max_width": null,
      "min_height": null,
      "min_width": null,
      "object_fit": null,
      "object_position": null,
      "order": null,
      "overflow": null,
      "overflow_x": null,
      "overflow_y": null,
      "padding": null,
      "right": null,
      "top": null,
      "visibility": null,
      "width": null
     }
    },
    "d9f95376cb9d4ff88e5563a28b03fc83": {
     "model_module": "@jupyter-widgets/controls",
     "model_name": "SliderStyleModel",
     "state": {
      "_model_module": "@jupyter-widgets/controls",
      "_model_module_version": "1.5.0",
      "_model_name": "SliderStyleModel",
      "_view_count": null,
      "_view_module": "@jupyter-widgets/base",
      "_view_module_version": "1.2.0",
      "_view_name": "StyleView",
      "description_width": "",
      "handle_color": null
     }
    },
    "e4f9bc9c6dda4fb49c1677f2caa6148c": {
     "model_module": "@jupyter-widgets/base",
     "model_name": "LayoutModel",
     "state": {
      "_model_module": "@jupyter-widgets/base",
      "_model_module_version": "1.2.0",
      "_model_name": "LayoutModel",
      "_view_count": null,
      "_view_module": "@jupyter-widgets/base",
      "_view_module_version": "1.2.0",
      "_view_name": "LayoutView",
      "align_content": null,
      "align_items": null,
      "align_self": null,
      "border": null,
      "bottom": null,
      "display": null,
      "flex": null,
      "flex_flow": null,
      "grid_area": null,
      "grid_auto_columns": null,
      "grid_auto_flow": null,
      "grid_auto_rows": null,
      "grid_column": null,
      "grid_gap": null,
      "grid_row": null,
      "grid_template_areas": null,
      "grid_template_columns": null,
      "grid_template_rows": null,
      "height": null,
      "justify_content": null,
      "justify_items": null,
      "left": null,
      "margin": null,
      "max_height": null,
      "max_width": null,
      "min_height": null,
      "min_width": null,
      "object_fit": null,
      "object_position": null,
      "order": null,
      "overflow": null,
      "overflow_x": null,
      "overflow_y": null,
      "padding": null,
      "right": null,
      "top": null,
      "visibility": null,
      "width": null
     }
    },
    "e898713df5af436e979f56c6936d4b43": {
     "model_module": "@jupyter-widgets/controls",
     "model_name": "SliderStyleModel",
     "state": {
      "_model_module": "@jupyter-widgets/controls",
      "_model_module_version": "1.5.0",
      "_model_name": "SliderStyleModel",
      "_view_count": null,
      "_view_module": "@jupyter-widgets/base",
      "_view_module_version": "1.2.0",
      "_view_name": "StyleView",
      "description_width": "",
      "handle_color": null
     }
    },
    "ea1ab6cc5e324f27b60d0724c6deab60": {
     "model_module": "@jupyter-widgets/controls",
     "model_name": "FloatSliderModel",
     "state": {
      "_dom_classes": [],
      "_model_module": "@jupyter-widgets/controls",
      "_model_module_version": "1.5.0",
      "_model_name": "FloatSliderModel",
      "_view_count": null,
      "_view_module": "@jupyter-widgets/controls",
      "_view_module_version": "1.5.0",
      "_view_name": "FloatSliderView",
      "continuous_update": true,
      "description": "c",
      "description_tooltip": null,
      "disabled": false,
      "layout": "IPY_MODEL_4d97ac7a6f7e4f418ac6540a453900fd",
      "max": 1,
      "min": -1,
      "orientation": "horizontal",
      "readout": true,
      "readout_format": ".2f",
      "step": 0.01,
      "style": "IPY_MODEL_2a209446160a49c9b5670b424fb53f05",
      "value": 0
     }
    },
    "f257759138dd4907a8c3fab482dcc80f": {
     "model_module": "@jupyter-widgets/base",
     "model_name": "LayoutModel",
     "state": {
      "_model_module": "@jupyter-widgets/base",
      "_model_module_version": "1.2.0",
      "_model_name": "LayoutModel",
      "_view_count": null,
      "_view_module": "@jupyter-widgets/base",
      "_view_module_version": "1.2.0",
      "_view_name": "LayoutView",
      "align_content": null,
      "align_items": null,
      "align_self": null,
      "border": null,
      "bottom": null,
      "display": null,
      "flex": null,
      "flex_flow": null,
      "grid_area": null,
      "grid_auto_columns": null,
      "grid_auto_flow": null,
      "grid_auto_rows": null,
      "grid_column": null,
      "grid_gap": null,
      "grid_row": null,
      "grid_template_areas": null,
      "grid_template_columns": null,
      "grid_template_rows": null,
      "height": null,
      "justify_content": null,
      "justify_items": null,
      "left": null,
      "margin": null,
      "max_height": null,
      "max_width": null,
      "min_height": null,
      "min_width": null,
      "object_fit": null,
      "object_position": null,
      "order": null,
      "overflow": null,
      "overflow_x": null,
      "overflow_y": null,
      "padding": null,
      "right": null,
      "top": null,
      "visibility": null,
      "width": null
     }
    }
   }
  }
 },
 "nbformat": 4,
 "nbformat_minor": 1
}
